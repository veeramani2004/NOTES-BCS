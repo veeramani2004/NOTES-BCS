{
 "cells": [
  {
   "cell_type": "code",
   "execution_count": null,
   "id": "7e13c5b1",
   "metadata": {},
   "outputs": [
    {
     "name": "stdout",
     "output_type": "stream",
     "text": [
      "Steve Rogers 🦸‍♂️ 🦸‍♂️ lives in Brooklyn\n",
      "Peter Parker location is Top Secret 🔒\n",
      "Bruce Banner location is Top Secret 🔒\n"
     ]
    }
   ],
   "source": [
    "heroes = [\n",
    "    {\n",
    "        \"name\": \"Steve Rogers 🦸‍♂️\",\n",
    "        \"age\": 100,\n",
    "        \"height\": 185,\n",
    "        \"address\": {\"city\": \"Brooklyn\", \"country\": \"US\"},\n",
    "    },\n",
    "    {\n",
    "        \"name\": \"Peter Parker\",\n",
    "        \"age\": 18,\n",
    "        \"team_name\": \"Avengers\",\n",
    "        \"team\": [\"Iron Man\", \"Thor\", \"Hulk\", \"Captain America\"],\n",
    "    },\n",
    "    {\n",
    "        \"name\": \"Bruce Banner\",\n",
    "        \"age\": 35,\n",
    "    },\n",
    "]\n",
    "\n",
    "# Output\n",
    "# Steve Rogers 🦸‍♂️ lives in Brooklyn\n",
    "# Peter Parker location is Top Secret 🔒\n",
    "# Bruce Banner location is Top Secret 🔒\n",
    "\n",
    "for hero in heroes:\n",
    "    name = hero[\"name\"]\n",
    "    city = hero.get(\"address\", {}).get(\"city\")\n",
    "    if city:\n",
    "        print(f\"{name} 🦸‍♂️ lives in {city}\")\n",
    "    else:\n",
    "        print(f\"{name} location is Top Secret 🔒\")"
   ]
  },
  {
   "cell_type": "code",
   "execution_count": null,
   "id": "9491f288",
   "metadata": {},
   "outputs": [
    {
     "name": "stdout",
     "output_type": "stream",
     "text": [
      "[{'name': 'Chelo', 'experience': 3}, {'name': 'Diyali', 'experience': 1}, {'name': 'Luvuyo', 'experience': 1}, {'name': 'Jevan', 'experience': 2}]\n"
     ]
    }
   ],
   "source": [
    "# Task 1.2\n",
    "\n",
    "employees = [\n",
    "    {\"name\": \"Chelo\", \"experience\": 2},\n",
    "    {\n",
    "        \"name\": \"Diyali\",\n",
    "    },\n",
    "    {\n",
    "        \"name\": \"Luvuyo\",\n",
    "    },\n",
    "    {\"name\": \"Jevan\", \"experience\": 1},\n",
    "]\n",
    "\n",
    "for employe in employees:\n",
    "    employe[\"experience\"] = employe.get(\"experience\", 0) + 1\n",
    "print(employees)\n",
    "\n",
    "# Output\n",
    "# [{'name': 'Chelo', 'experience': 3},\n",
    "#  {'name': 'Diyali', 'experience': 1},\n",
    "#  {'name': 'Luvuyo', 'experience': 1},\n",
    "#  {'name': 'Jevan', 'experience': 2}]"
   ]
  },
  {
   "cell_type": "code",
   "execution_count": null,
   "id": "aec99588",
   "metadata": {},
   "outputs": [],
   "source": [
    "# Task 1.3\n",
    "inventory = [\n",
    "    {\"name\": \"Apple 🍎\", \"quantity\": 30, \"price\": 0.50},\n",
    "    {\"name\": \"Banana 🍌\", \"quantity\": 20, \"price\": 0.20},\n",
    "]\n",
    "\n",
    "\n",
    "# Output\n",
    "# What is the product name? Orange 🍊\n",
    "# What is the quantity? 5\n",
    "# What is the price? 0.1\n",
    "\n",
    "# Would you like add another product? (Y/N) N\n",
    "# Bye 😉\n",
    "while \n",
    "\n",
    "\n",
    "print(inventory)\n",
    "# [\n",
    "#     {\"name\": \"Apple 🍎\", \"quantity\": 30, \"price\": 0.50},\n",
    "#     {\"name\": \"Banana 🍌\", \"quantity\": 20, \"price\": 0.20},\n",
    "#     {\"name\": \"Orange 🍊\", \"quantity\": 5, \"price\": 0.1},\n",
    "# ]\n"
   ]
  }
 ],
 "metadata": {
  "kernelspec": {
   "display_name": "myenv",
   "language": "python",
   "name": "python3"
  },
  "language_info": {
   "codemirror_mode": {
    "name": "ipython",
    "version": 3
   },
   "file_extension": ".py",
   "mimetype": "text/x-python",
   "name": "python",
   "nbconvert_exporter": "python",
   "pygments_lexer": "ipython3",
   "version": "3.13.5"
  }
 },
 "nbformat": 4,
 "nbformat_minor": 5
}
