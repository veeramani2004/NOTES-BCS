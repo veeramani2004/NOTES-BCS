{
 "cells": [
  {
   "cell_type": "code",
   "execution_count": 1,
   "id": "daec1bae",
   "metadata": {},
   "outputs": [],
   "source": [
    "movies = [\n",
    "    {\n",
    "        \"title\": \"Inception\",\n",
    "        \"ratings\": [5, 4, 5, 4, 5]\n",
    "    },\n",
    "    {\n",
    "        \"title\": \"Interstellar\",\n",
    "        \"ratings\": [5, 5, 4, 5, 4]\n",
    "    },\n",
    "    {\n",
    "        \"title\": \"Dunkirk\",\n",
    "        \"ratings\": [4, 4, 4, 3, 4]\n",
    "    },\n",
    "    {\n",
    "        \"title\": \"The Dark Knight\",\n",
    "        \"ratings\": [5, 5, 5, 5, 5]\n",
    "    },\n",
    "    {\n",
    "        \"title\": \"Memento\",\n",
    "        \"ratings\": [4, 5, 4, 5, 4]\n",
    "    },\n",
    "]\n",
    "\n"
   ]
  },
  {
   "cell_type": "code",
   "execution_count": 4,
   "id": "f7cc07d6",
   "metadata": {},
   "outputs": [
    {
     "name": "stdout",
     "output_type": "stream",
     "text": [
      "('Inception', 'Interstellar', 'Dunkirk', 'The Dark Knight', 'Memento')\n"
     ]
    }
   ],
   "source": [
    "# Task 1.1\n",
    "def get_titles(movies):\n",
    "    movie_titles=tuple(movie[\"title\"] for movie in movies )\n",
    "    return movie_titles\n",
    "result=get_titles(movies)\n",
    "print(result)"
   ]
  },
  {
   "cell_type": "code",
   "execution_count": 7,
   "id": "fd326aad",
   "metadata": {},
   "outputs": [
    {
     "name": "stdout",
     "output_type": "stream",
     "text": [
      "[4.6, 4.6, 3.8, 5.0, 4.4]\n"
     ]
    }
   ],
   "source": [
    "# Task 1.2\n",
    "# Average rating of each movie \n",
    "def get_avgs(movies):\n",
    "    movie_rateing=[sum(movie[\"ratings\"])/len(movie[\"ratings\"]) for movie in movies]\n",
    "    return movie_rateing\n",
    "result= get_avgs(movies)\n",
    "print(result)"
   ]
  },
  {
   "cell_type": "code",
   "execution_count": 17,
   "id": "9ddef0aa",
   "metadata": {},
   "outputs": [
    {
     "name": "stdout",
     "output_type": "stream",
     "text": [
      "['Alice', 'Charlie']\n",
      "['Alice', 'Charlie']\n"
     ]
    }
   ],
   "source": [
    "\n",
    "## Task 2\n",
    "\n",
    "guests = [{\n",
    "    \"name\": \"Alice\",\n",
    "    \"age\": 25,\n",
    "    \"code\": \"VIP123\"\n",
    "}, {\n",
    "    \"name\": \"Bob\",\n",
    "    \"age\": 17,\n",
    "    \"code\": \"VIP123\"\n",
    "}, {\n",
    "    \"name\": \"Charlie\",\n",
    "    \"age\": 30,\n",
    "    \"code\": \"VIP123\"\n",
    "}, {\n",
    "    \"name\": \"Dave\",\n",
    "    \"age\": 22,\n",
    "    \"code\": \"GUEST\"\n",
    "}, {\n",
    "    \"name\": \"Eve\",\n",
    "    \"age\": 29,\n",
    "    \"code\": \"VIP123\"\n",
    "}]\n",
    "\n",
    "blacklist = [\"Dave\", \"Eve\"]\n",
    "\n",
    "PASS_CODE = \"VIP123\"\n",
    "\n",
    "### Task:\n",
    "# Select people who are 21 years or above\n",
    "# Must have the VIP123 code\n",
    "# Exclude anyone in the blacklist\n",
    "\n",
    "# Task 2.1 - With normal for loop\n",
    "\n",
    "def guest_list(guests):\n",
    "    guestlist=[]\n",
    "    for guest in guests:\n",
    "        if guest[\"age\"]>=21 and guest[\"code\"]==PASS_CODE and guest[\"name\"] not in blacklist :\n",
    "            guestlist.append(guest[\"name\"])\n",
    "    print(guestlist)\n",
    "guest_list(guests)  \n",
    "\n",
    "# Task 2.2 - With list comp\n",
    "def guest_list(guests):\n",
    "    return [guest[\"name\"] for guest in guests if guest[\"age\"]>=21 and guest[\"code\"]==PASS_CODE and guest[\"name\"] not in blacklist ]\n",
    "result=guest_list(guests)  \n",
    "print(result)\n",
    "        "
   ]
  },
  {
   "cell_type": "markdown",
   "id": "7f512621",
   "metadata": {},
   "source": []
  },
  {
   "cell_type": "code",
   "execution_count": null,
   "id": "1fc05bae",
   "metadata": {},
   "outputs": [],
   "source": []
  }
 ],
 "metadata": {
  "kernelspec": {
   "display_name": "myenv",
   "language": "python",
   "name": "python3"
  },
  "language_info": {
   "codemirror_mode": {
    "name": "ipython",
    "version": 3
   },
   "file_extension": ".py",
   "mimetype": "text/x-python",
   "name": "python",
   "nbconvert_exporter": "python",
   "pygments_lexer": "ipython3",
   "version": "3.13.5"
  }
 },
 "nbformat": 4,
 "nbformat_minor": 5
}
