{
 "cells": [
  {
   "cell_type": "code",
   "execution_count": 6,
   "id": "eae3c172",
   "metadata": {},
   "outputs": [
    {
     "data": {
      "text/plain": [
       "{'⌚ Smartwatch',\n",
       " '💻 Laptop',\n",
       " '📚 E-reader',\n",
       " '📱 Smartphone',\n",
       " '📱 Tablet',\n",
       " '🛸 Drone',\n",
       " '🤳 Selfie stick'}"
      ]
     },
     "execution_count": 6,
     "metadata": {},
     "output_type": "execute_result"
    }
   ],
   "source": [
    "tech_gadgets = {'📱 Smartphone', '💻 Laptop', '⌚ Smartwatch', '📱 Tablet', '📱 Tablet'}\n",
    "\n",
    "tech_gadgets.add('📚 E-reader')\n",
    "\n",
    "more_gadgets = ['🛸 Drone', '🤳 Selfie stick']\n",
    "\n",
    "tech_gadgets.update(more_gadgets)\n",
    "\n",
    "tech_gadgets"
   ]
  }
 ],
 "metadata": {
  "kernelspec": {
   "display_name": "myenv",
   "language": "python",
   "name": "python3"
  },
  "language_info": {
   "codemirror_mode": {
    "name": "ipython",
    "version": 3
   },
   "file_extension": ".py",
   "mimetype": "text/x-python",
   "name": "python",
   "nbconvert_exporter": "python",
   "pygments_lexer": "ipython3",
   "version": "3.13.5"
  }
 },
 "nbformat": 4,
 "nbformat_minor": 5
}
