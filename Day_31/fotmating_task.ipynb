{
 "cells": [
  {
   "cell_type": "markdown",
   "id": "bed2f4f7",
   "metadata": {},
   "source": [
    "======= Spaghetti Carbonara =======\n",
    "- 200g spaghetti\n",
    "- 100g pancetta\n",
    "- 2 eggs\n",
    "- 1/2 cup grated Parmesan\n",
    "- 1 clove garlic\n",
    "Serves: 4 people"
   ]
  },
  {
   "cell_type": "code",
   "execution_count": 21,
   "id": "6ac581fe",
   "metadata": {},
   "outputs": [
    {
     "name": "stdout",
     "output_type": "stream",
     "text": [
      "=============  Spaghetti Carbonara  ==============\n",
      "- 200g spaghetti \n",
      "- 100g pancetta \n",
      "- 2 eggs \n",
      "- 1/2 cup grated Parmesan \n",
      "- 1 clove garlic \n",
      "Serves: 4 people\n"
     ]
    }
   ],
   "source": [
    "recipe = {\n",
    "    \"name\": \"Spaghetti Carbonara\",\n",
    "    \"servings\": 4,\n",
    "    \"ingredients\": [\n",
    "        \"200g spaghetti\",\n",
    "        \"100g pancetta\",\n",
    "        \"2 eggs\",\n",
    "        \"1/2 cup grated Parmesan\",\n",
    "        \"1 clove garlic\",\n",
    "    ],\n",
    "}\n",
    "\n",
    "print (f\"{'  '+ recipe[\"name\"]+'  ':=^50}\")\n",
    "for ingre in recipe[\"ingredients\"]:\n",
    "    print(f'-{' '+ingre} ')\n",
    "print(f\"Serves: {recipe[\"servings\"]} people\")\n"
   ]
  },
  {
   "cell_type": "code",
   "execution_count": 39,
   "id": "2eaa5b19",
   "metadata": {},
   "outputs": [
    {
     "name": "stdout",
     "output_type": "stream",
     "text": [
      "=============  Spaghetti Carbonara  ==============\n",
      "<generator object <genexpr> at 0x000002278F2F0110>\n",
      "<generator object <genexpr> at 0x000002278F2F0110>\n",
      "['- 200g spaghetti', '- 200g spaghetti', '- 100g pancetta', '- 2 eggs', '- 1/2 cup grated Parmesan', '- 1 clove garlic']\n",
      "['- 200g spaghetti', '- 200g spaghetti', '- 100g pancetta', '- 2 eggs', '- 1/2 cup grated Parmesan', '- 1 clove garlic']\n",
      "{'- 100g pancetta', '- 1 clove garlic', '- 1/2 cup grated Parmesan', '- 2 eggs', '- 200g spaghetti'}\n",
      "('- 200g spaghetti', '- 200g spaghetti', '- 100g pancetta', '- 2 eggs', '- 1/2 cup grated Parmesan', '- 1 clove garlic')\n",
      "Serves: 4 people\n"
     ]
    }
   ],
   "source": [
    "recipe = {\n",
    "    \"name\": \"Spaghetti Carbonara\",\n",
    "    \"servings\": 4,\n",
    "    \"ingredients\": [\n",
    "        \"200g spaghetti\",\n",
    "        \"200g spaghetti\",\n",
    "        \"100g pancetta\",\n",
    "        \"2 eggs\",\n",
    "        \"1/2 cup grated Parmesan\",\n",
    "        \"1 clove garlic\",\n",
    "    ],\n",
    "}\n",
    "\n",
    "print(f\"{'  '+ recipe[\"name\"]+'  ':=^50}\")\n",
    "print(f\"- {ingre}\" for ingre in recipe[\"ingredients\"])\n",
    "print((f\"- {ingre}\" for ingre in recipe[\"ingredients\"]))\n",
    "print([f\"- {ingre}\" for ingre in recipe[\"ingredients\"]])\n",
    "print(list(f\"- {ingre}\" for ingre in recipe[\"ingredients\"]))\n",
    "print(set(f\"- {ingre}\" for ingre in recipe[\"ingredients\"]))\n",
    "print(tuple(f\"- {ingre}\" for ingre in recipe[\"ingredients\"]))\n",
    "# print(dict(f\"- {ingre}\" for ingre in recipe[\"ingredients\"]))\n",
    "print(f\"Serves: {recipe[\"servings\"]} people\")"
   ]
  },
  {
   "cell_type": "markdown",
   "id": "7ac2ca0e",
   "metadata": {},
   "source": [
    "Assignment\n",
    "Invoice Date: 03 March 2025\n",
    "\n",
    "Product               Qty     Unit Price          Total\n",
    "-------------------------------------------------------\n",
    "Widget A               10           2.50          25.00\n",
    "Widget B                5          15.75          78.75\n",
    "Gadget                  2          99.99         199.98\n",
    "-------------------------------------------------------\n",
    "Grand Total                                      303.73"
   ]
  },
  {
   "cell_type": "code",
   "execution_count": 11,
   "id": "8a50af30",
   "metadata": {},
   "outputs": [
    {
     "name": "stdout",
     "output_type": "stream",
     "text": [
      "2025-03-03\n",
      "2025-08-23\n",
      "23-08-25\n",
      "23-August-25\n",
      "23-Aug-25\n",
      "02-53 PM\n",
      "\n"
     ]
    }
   ],
   "source": [
    "from datetime import datetime, date, time\n",
    "items = [\n",
    "    {\"name\": \"Widget A\", \"quantity\": 10, \"price\": 2.5},\n",
    "    {\"name\": \"Widget B\", \"quantity\": 5, \"price\": 15.75},\n",
    "    {\"name\": \"Gadget\", \"quantity\": 2, \"price\": 99.99}\n",
    "]\n",
    "today = datetime.today().date()\n",
    "time = datetime.today().time()\n",
    "now = datetime.now()\n",
    "date=date(2025, 3, 3)\n",
    "\n",
    "print(date)\n",
    "print(today)\n",
    "print(f\"{now:%d-%m-%y}\")\n",
    "print(f\"{now:%d-%B-%y}\")\n",
    "print(f'{now:%d-%b-%y}')\n",
    "print(f\"{time:%I-%M %p}\")\n",
    "print(f\"\")"
   ]
  },
  {
   "cell_type": "code",
   "execution_count": 62,
   "id": "85d5eace",
   "metadata": {},
   "outputs": [
    {
     "name": "stdout",
     "output_type": "stream",
     "text": [
      "Invoice Date: 03 March 2025\n",
      "Product               Qty       Unit Price          Total\n",
      "---------------------------------------------------------\n",
      "Widget A               10              2.5           25.0\n",
      "Widget B                5            15.75          78.75\n",
      "Gadget                  2            99.99         199.98\n",
      "---------------------------------------------------------\n",
      "Grand Total                                        303.73\n",
      "[25.0, 78.75, 199.98]\n"
     ]
    }
   ],
   "source": [
    "from datetime import datetime, date, time\n",
    "items = [\n",
    "    {\"name\": \"Widget A\", \"quantity\": 10, \"price\": 2.5},\n",
    "    {\"name\": \"Widget B\", \"quantity\": 5, \"price\": 15.75},\n",
    "    {\"name\": \"Gadget\", \"quantity\": 2, \"price\": 99.99}\n",
    "]\n",
    "total = []\n",
    "print(f\"Invoice Date: {date(2025, 3,3):%d %B %Y}\")\n",
    "\n",
    "print(f\"{'Product':<20}{'Qty':>5}{'Unit Price':>17}{'Total':>15}\")\n",
    "print(f\"{'-'*57}\")\n",
    "for item in items:\n",
    "    total.append(item['quantity']*item['price'])\n",
    "    print(f\"{item['name']:<20}{item['quantity']:>5}{item['price']:>17}{item['quantity']*item['price']:>15}\")\n",
    "print(f\"{'-'*57}\")\n",
    "print(f\"{'Grand Total':<42}{sum(total):>15}\")\n",
    "\n",
    "print(total)\n",
    "\n"
   ]
  },
  {
   "cell_type": "code",
   "execution_count": 79,
   "id": "977b30a5",
   "metadata": {},
   "outputs": [
    {
     "name": "stdout",
     "output_type": "stream",
     "text": [
      "Invoice Date: 03 March 2025\n",
      "\n",
      "Product               Qty       Unit Price          Total\n",
      "---------------------------------------------------------\n",
      "Widget A               10              2.5           25.0\n",
      "Widget B                5            15.75          78.75\n",
      "Gadget                  2            99.99         199.98\n",
      "---------------------------------------------------------\n",
      "Grand Total                                        303.73\n"
     ]
    }
   ],
   "source": [
    "from datetime import datetime, date, time\n",
    "items = [\n",
    "    {\"name\": \"Widget A\", \"quantity\": 10, \"price\": 2.5},\n",
    "    {\"name\": \"Widget B\", \"quantity\": 5, \"price\": 15.75},\n",
    "    {\"name\": \"Gadget\", \"quantity\": 2, \"price\": 99.99}\n",
    "]\n",
    "total = 0\n",
    "print(f\"Invoice Date: {date(2025, 3,3):%d %B %Y}\")\n",
    "print()\n",
    "print(f\"{'Product':<20}{'Qty':>5}{'Unit Price':>17}{'Total':>15}\")\n",
    "print(f\"{'-'*57}\")\n",
    "for item in items:\n",
    "    total += (item['quantity']*item['price'])\n",
    "    print(f\"{item['name']:<20}{item['quantity']:>5}{item['price']:>17}{item['quantity']*item['price']:>15}\")\n",
    "print(f\"{'-'*57}\")\n",
    "print(f\"{'Grand Total':<42}{total:>15}\")\n",
    "\n",
    "\n"
   ]
  }
 ],
 "metadata": {
  "kernelspec": {
   "display_name": "myenv",
   "language": "python",
   "name": "python3"
  },
  "language_info": {
   "codemirror_mode": {
    "name": "ipython",
    "version": 3
   },
   "file_extension": ".py",
   "mimetype": "text/x-python",
   "name": "python",
   "nbconvert_exporter": "python",
   "pygments_lexer": "ipython3",
   "version": "3.13.5"
  }
 },
 "nbformat": 4,
 "nbformat_minor": 5
}
