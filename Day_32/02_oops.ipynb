{
 "cells": [
  {
   "cell_type": "code",
   "execution_count": 1,
   "id": "5b4fbae4",
   "metadata": {},
   "outputs": [
    {
     "name": "stdout",
     "output_type": "stream",
     "text": [
      "<__main__.Car object at 0x000002A1F8D097F0>\n",
      "ferrori\n",
      "2\n",
      "4\n",
      "2\n"
     ]
    }
   ],
   "source": [
    "# Blueprint\n",
    "class Car:\n",
    "    # method -> init -> constructor\n",
    "    def __init__(self, wheels, engine, model, doors):\n",
    "        # self -> object\n",
    "        # instance variable\n",
    "        self.wheels = wheels\n",
    "        self.engine = engine\n",
    "        self.model  = model\n",
    "        self.door = doors\n",
    "    \n",
    "# Object / Instance\n",
    "hindustan = Car(4, 'v6', \"ferrori\", 2)\n",
    "\n",
    "print(hindustan)\n",
    "print(hindustan.model) # Ambassador\n",
    "print(hindustan.door) \n",
    "print(hindustan.wheels)\n",
    "print(hindustan.door) "
   ]
  },
  {
   "cell_type": "code",
   "execution_count": 2,
   "id": "1d068e8f",
   "metadata": {},
   "outputs": [
    {
     "name": "stdout",
     "output_type": "stream",
     "text": [
      "harrier\n"
     ]
    }
   ],
   "source": [
    "class Car:\n",
    "    def __init__(self,wheels,engine,model,doors):\n",
    "        self.wheels=wheels\n",
    "        self.engine=engine\n",
    "        self.model=model\n",
    "        self.door=doors\n",
    "\n",
    "   \n",
    "tata=Car(4,\"v4\",\"harrier\",3)\n",
    "print(tata.model)"
   ]
  },
  {
   "cell_type": "code",
   "execution_count": 3,
   "id": "a0cd8912",
   "metadata": {},
   "outputs": [],
   "source": [
    "class Account:\n",
    "    intrest_rate=2\n",
    "    total_no_acc=0\n",
    "    def __init__(self,acc_no,name,balence):\n",
    "        self.acc_no=acc_no\n",
    "        self.name=name\n",
    "        self.balence=balence\n",
    "        Account.total_no_acc +=1\n",
    "    def display_balence(self):\n",
    "        return f\"Your balence is: ₹{self.balence:,.2f}\"\n",
    "    def withdraw(self,amount):\n",
    "        if amount <1:\n",
    "            return \"Invalid amount\"\n",
    "        elif self.balence<amount:\n",
    "            return f'Insufficient funds.{self.display_balence()}' \n",
    "        else:\n",
    "            self.balence=self.balence-amount\n",
    "            return f\"Success.{self.display_balence()} \"\n",
    "        \n",
    "    def depoist(self,amount):\n",
    "         if amount <0:\n",
    "            return \"Invalid amount\"\n",
    "         else:\n",
    "            self.balence=self.balence+amount\n",
    "            return f\"Success.{self.display_balence()} \"\n",
    "         \n",
    "    def apply_intrest(self):\n",
    "        self.balence= self.balence+(Account.intrest_rate /100)* self.balence\n",
    "        return f\"updated intrest rate {Account.intrest_rate}%.{self.display_balence()} \"\n",
    "    @classmethod\n",
    "    def update_interest_rate(cls,new_intrest_rate):\n",
    "        if new_intrest_rate<0:\n",
    "            return \"invalid intrest rate\"\n",
    "        elif new_intrest_rate>100:\n",
    "            return \"invalid intrest rate\"\n",
    "        cls.intrest_rate=new_intrest_rate\n",
    "        return \n",
    "    def get_total_no_accounts():\n",
    "        return f\"Total number of account : {Account.total_no_acc}\"\n",
    "\n",
    "gopi=Account(12345678,\"gobiga harikaran\",1_00_00_000)\n",
    "viky=Account(87654321,\"vignesh\",10_00_000)\n",
    "veera=Account(49876543,\"veeramani\",\"1 Million Dollers\")\n",
    "      "
   ]
  },
  {
   "cell_type": "code",
   "execution_count": 66,
   "id": "3c97c4c4",
   "metadata": {},
   "outputs": [
    {
     "name": "stdout",
     "output_type": "stream",
     "text": [
      "Your balence is: ₹10,000,000.00\n",
      "Your balence is: ₹1,000,000.00\n"
     ]
    }
   ],
   "source": [
    "print(gopi.display_balence())\n",
    "print(viky.display_balence()) \n"
   ]
  },
  {
   "cell_type": "code",
   "execution_count": 4,
   "id": "b369d5ae",
   "metadata": {},
   "outputs": [
    {
     "name": "stdout",
     "output_type": "stream",
     "text": [
      "Success.Your balence is: ₹900,000.00 \n",
      "Insufficient funds.Your balence is: ₹900,000.00\n",
      "Invalid amount\n",
      "Success.Your balence is: ₹112,011,111.00 \n",
      "Your balence is: ₹112,011,111.00\n"
     ]
    }
   ],
   "source": [
    "# task 1.2\n",
    "print(viky.withdraw(1_00_000))\n",
    "print(viky.withdraw(10_000_000))\n",
    "print(viky.withdraw(-2222))\n",
    "print(viky.depoist(111111111))\n",
    "print(viky.display_balence())"
   ]
  },
  {
   "cell_type": "code",
   "execution_count": 68,
   "id": "e6c7be79",
   "metadata": {},
   "outputs": [],
   "source": [
    "# print(bala.depoist(1_00_000))  \n",
    "# print(bala.display_balance())  \n",
    "\n"
   ]
  },
  {
   "cell_type": "code",
   "execution_count": 69,
   "id": "336bb646",
   "metadata": {},
   "outputs": [
    {
     "name": "stdout",
     "output_type": "stream",
     "text": [
      "updated intrest rate 2%.Your balence is: ₹10,200,000.00 \n",
      "updated intrest rate 2%.Your balence is: ₹918,000.00 \n",
      "Your balence is: ₹10,200,000.00\n",
      "Your balence is: ₹918,000.00\n"
     ]
    }
   ],
   "source": [
    "print(gopi.apply_intrest())\n",
    "print(viky.apply_intrest()) \n",
    "\n",
    "\n",
    "print(gopi.display_balence())\n",
    "print(viky.display_balence()) \n",
    "\n",
    "Account.update_interest_rate(10) "
   ]
  },
  {
   "cell_type": "code",
   "execution_count": 70,
   "id": "9fc354ae",
   "metadata": {},
   "outputs": [
    {
     "name": "stdout",
     "output_type": "stream",
     "text": [
      "updated intrest rate 10%.Your balence is: ₹11,220,000.00 \n",
      "updated intrest rate 10%.Your balence is: ₹1,009,800.00 \n",
      "Your balence is: ₹11,220,000.00\n",
      "Your balence is: ₹1,009,800.00\n",
      "Total number of account : 3\n"
     ]
    }
   ],
   "source": [
    "print(gopi.apply_intrest())\n",
    "print(viky.apply_intrest()) \n",
    "\n",
    "print(gopi.display_balence())\n",
    "print(viky.display_balence()) \n",
    "print(Account.get_total_no_accounts()) "
   ]
  },
  {
   "cell_type": "code",
   "execution_count": 71,
   "id": "3374b8fb",
   "metadata": {},
   "outputs": [],
   "source": [
    "x = 10"
   ]
  },
  {
   "cell_type": "code",
   "execution_count": 72,
   "id": "2e3a0ce1",
   "metadata": {},
   "outputs": [],
   "source": [
    "x = x + 1"
   ]
  },
  {
   "cell_type": "code",
   "execution_count": 73,
   "id": "11c2e5b5",
   "metadata": {},
   "outputs": [
    {
     "name": "stdout",
     "output_type": "stream",
     "text": [
      "11\n"
     ]
    }
   ],
   "source": [
    "print(x)"
   ]
  }
 ],
 "metadata": {
  "kernelspec": {
   "display_name": "myenv",
   "language": "python",
   "name": "python3"
  },
  "language_info": {
   "codemirror_mode": {
    "name": "ipython",
    "version": 3
   },
   "file_extension": ".py",
   "mimetype": "text/x-python",
   "name": "python",
   "nbconvert_exporter": "python",
   "pygments_lexer": "ipython3",
   "version": "3.13.5"
  }
 },
 "nbformat": 4,
 "nbformat_minor": 5
}
