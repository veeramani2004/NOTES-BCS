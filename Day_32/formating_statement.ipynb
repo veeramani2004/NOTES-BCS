{
 "cells": [
  {
   "cell_type": "markdown",
   "id": "d3bf363e",
   "metadata": {},
   "source": [
    "========================================================\n",
    "                🏦 Bank Account Statement\n",
    "========================================================\n",
    "Account No   : ACC12345\n",
    "Account Name : Harry\n",
    "Statement on : 21 Aug 2025, 10:40 AM\n",
    "--------------------------------------------------------\n",
    "Txn ID | Date & Time            | Type       | Amount   | Balance\n",
    "--------------------------------------------------------\n",
    "1      | 21 Aug 2025, 10:32 AM  | Deposit    | 500.00   | 1500.00\n",
    "2      | 21 Aug 2025, 10:33 AM  | Withdrawal | 200.00   | 1300.00\n",
    "3      | 21 Aug 2025, 10:34 AM  | Deposit    | 300.00   | 1600.00\n",
    "--------------------------------------------------------\n",
    "Closing Balance: 1600.00\n",
    "========================================================"
   ]
  },
  {
   "cell_type": "code",
   "execution_count": 88,
   "id": "75012157",
   "metadata": {},
   "outputs": [],
   "source": [
    "from datetime import datetime\n",
    "\n",
    "class Account:\n",
    "\n",
    "    def __init__(self, acc_no, owner, balance=0):\n",
    "        self.acc_no = acc_no\n",
    "        self.owner = owner\n",
    "        self.balance = balance\n",
    "        self.transactions = []  # store transaction history\n",
    "        self.trans_id = 1       # running transaction ID\n",
    "    def display_balance(self):\n",
    "        return f\"Your balence is: ₹{self.balance:,.2f}\"\n",
    "    \n",
    "    def deposit(self, amount):\n",
    "          time=datetime.now()\n",
    "          \n",
    "          if amount <0:\n",
    "            return \"Invalid amount\"\n",
    "          else:\n",
    "            self.balance=self.balance+amount\n",
    "            self.transactions.append({\"txn_id\":self.trans_id,\"type\":\"Deposit\", \"amount\":amount, \"balance\":self.balance, \"time\":f\"{time:%d %b %Y, %I:%m %p}\"})\n",
    "            self.trans_id =self.trans_id +1\n",
    "            print(self.transactions)\n",
    "            return f\"Success.{self.display_balance()} \"\n",
    "         \n",
    "\n",
    "    def withdraw(self, amount):\n",
    "        time=datetime.now()\n",
    "        if amount <1:\n",
    "            return \"Invalid amount\"\n",
    "        elif self.balance<amount:\n",
    "            return f'Insufficient funds.{self.display_balance()}' \n",
    "        else:\n",
    "            self.balance=self.balance-amount\n",
    "            self.transactions.append({\"txn_id\":self.trans_id,\"type\":\"Withdrawal\", \"amount\":amount, \"balance\":self.balance, \"time\":f\"{time:%d %b %Y, %I:%m %p}\"})\n",
    "            self.trans_id =self.trans_id +1\n",
    "            print(self.transactions)\n",
    "            return f\"Success.{self.display_balance()} \"\n",
    "\n",
    "    def print_transactions(self):\n",
    "        time=datetime.now()\n",
    "        print(\"=\"*70)\n",
    "        print(f\"{\"🏦 Bank Account Statement\":^70}\")\n",
    "        print(\"=\"*70)\n",
    "        print(f\"{\"Account No\":<13}:{self.acc_no}\")\n",
    "        print(f\"{\"Account Name\":<13}:{self.owner}\")\n",
    "        print(f\"{\"Statement on\":<13}:{time:%d %b %Y, %I:%m %p}\")\n",
    "        print(\"-\"*70)\n",
    "        print(f\"{\"Txn ID\":<7}| {\"Date & Time\":^22}| {\"Type\":^12}| {\"Amount\":^10} | {\"Balance\":^10}\")\n",
    "        print(\"-\"*70)\n",
    "        for transaction in self.transactions:\n",
    "            print(f\"{transaction[\"txn_id\"]:<7}| {transaction[\"time\"]:<22}| {transaction[\"type\"]:^12}| {transaction[\"amount\"]:>10.2f} | {transaction[\"balance\"]:>10.2f}\")\n",
    "        print(\"-\"*70)\n",
    "        print(f\"Closing Balance: {self.balance:.2f}\")\n",
    "        print(\"=\"*70)\n",
    "\n",
    "acc = Account(\"ACC12345\", \"Harry\", 1000)\n",
    "acc2= Account(\"ACC22222\", \"veera\", 10000)   \n"
   ]
  },
  {
   "cell_type": "code",
   "execution_count": 93,
   "id": "c6decaf6",
   "metadata": {},
   "outputs": [
    {
     "name": "stdout",
     "output_type": "stream",
     "text": [
      "[{'txn_id': 1, 'type': 'Deposit', 'amount': 600, 'balance': 1600, 'time': '23 Aug 2025, 06:08 PM'}, {'txn_id': 2, 'type': 'Deposit', 'amount': 666, 'balance': 2266, 'time': '23 Aug 2025, 06:08 PM'}, {'txn_id': 3, 'type': 'Deposit', 'amount': 60000, 'balance': 62266, 'time': '23 Aug 2025, 06:08 PM'}, {'txn_id': 4, 'type': 'Withdrawal', 'amount': 500, 'balance': 61766, 'time': '23 Aug 2025, 06:08 PM'}, {'txn_id': 5, 'type': 'Deposit', 'amount': 600, 'balance': 62366, 'time': '23 Aug 2025, 06:08 PM'}, {'txn_id': 6, 'type': 'Deposit', 'amount': 666, 'balance': 63032, 'time': '23 Aug 2025, 06:08 PM'}, {'txn_id': 7, 'type': 'Deposit', 'amount': 60000, 'balance': 123032, 'time': '23 Aug 2025, 06:08 PM'}, {'txn_id': 8, 'type': 'Withdrawal', 'amount': 500, 'balance': 122532, 'time': '23 Aug 2025, 06:08 PM'}, {'txn_id': 9, 'type': 'Withdrawal', 'amount': 766, 'balance': 121766, 'time': '23 Aug 2025, 06:08 PM'}, {'txn_id': 10, 'type': 'Withdrawal', 'amount': 1766, 'balance': 120000, 'time': '23 Aug 2025, 06:08 PM'}]\n"
     ]
    },
    {
     "data": {
      "text/plain": [
       "'Success.Your balence is: ₹120,000.00 '"
      ]
     },
     "execution_count": 93,
     "metadata": {},
     "output_type": "execute_result"
    }
   ],
   "source": [
    "# acc.display_balance()\n",
    "# acc.deposit(600)\n",
    "# acc.deposit(666)\n",
    "# acc.deposit(60000)\n",
    "# acc2.display_balance()\n",
    "# acc2.deposit(600)\n",
    "# acc.withdraw(500)\n",
    "# acc.withdraw(766)\n",
    "acc.withdraw(1766)\n",
    "\n"
   ]
  },
  {
   "cell_type": "code",
   "execution_count": 94,
   "id": "921c92c9",
   "metadata": {},
   "outputs": [
    {
     "name": "stdout",
     "output_type": "stream",
     "text": [
      "======================================================================\n",
      "                       🏦 Bank Account Statement                       \n",
      "======================================================================\n",
      "Account No   :ACC12345\n",
      "Account Name :Harry\n",
      "Statement on :23 Aug 2025, 06:08 PM\n",
      "----------------------------------------------------------------------\n",
      "Txn ID |      Date & Time      |     Type    |   Amount   |  Balance  \n",
      "----------------------------------------------------------------------\n",
      "1      | 23 Aug 2025, 06:08 PM |   Deposit   |     600.00 |    1600.00\n",
      "2      | 23 Aug 2025, 06:08 PM |   Deposit   |     666.00 |    2266.00\n",
      "3      | 23 Aug 2025, 06:08 PM |   Deposit   |   60000.00 |   62266.00\n",
      "4      | 23 Aug 2025, 06:08 PM |  Withdrawal |     500.00 |   61766.00\n",
      "5      | 23 Aug 2025, 06:08 PM |   Deposit   |     600.00 |   62366.00\n",
      "6      | 23 Aug 2025, 06:08 PM |   Deposit   |     666.00 |   63032.00\n",
      "7      | 23 Aug 2025, 06:08 PM |   Deposit   |   60000.00 |  123032.00\n",
      "8      | 23 Aug 2025, 06:08 PM |  Withdrawal |     500.00 |  122532.00\n",
      "9      | 23 Aug 2025, 06:08 PM |  Withdrawal |     766.00 |  121766.00\n",
      "10     | 23 Aug 2025, 06:08 PM |  Withdrawal |    1766.00 |  120000.00\n",
      "----------------------------------------------------------------------\n",
      "Closing Balance: 120000.00\n",
      "======================================================================\n"
     ]
    }
   ],
   "source": [
    "acc.print_transactions()"
   ]
  }
 ],
 "metadata": {
  "kernelspec": {
   "display_name": "myenv",
   "language": "python",
   "name": "python3"
  },
  "language_info": {
   "codemirror_mode": {
    "name": "ipython",
    "version": 3
   },
   "file_extension": ".py",
   "mimetype": "text/x-python",
   "name": "python",
   "nbconvert_exporter": "python",
   "pygments_lexer": "ipython3",
   "version": "3.13.5"
  }
 },
 "nbformat": 4,
 "nbformat_minor": 5
}
