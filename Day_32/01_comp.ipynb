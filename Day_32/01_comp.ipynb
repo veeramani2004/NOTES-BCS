{
 "cells": [
  {
   "cell_type": "code",
   "execution_count": 4,
   "id": "78bb599f",
   "metadata": {},
   "outputs": [
    {
     "data": {
      "text/plain": [
       "{101: 30, 103: 35}"
      ]
     },
     "execution_count": 4,
     "metadata": {},
     "output_type": "execute_result"
    }
   ],
   "source": [
    "# task 1.1\n",
    "employees = [\n",
    "    {\"id\": 101, \"name\": \"Alice\", \"age\": 30},\n",
    "    {\"id\": 102, \"name\": \"Bob\", \"age\": 25},\n",
    "    {\"id\": 103, \"name\": \"Charlie\", \"age\": 35}\n",
    "]\n",
    "\n",
    "def employees_age(employees):\n",
    "    ages={}\n",
    "    for employee in employees:\n",
    "       if employee[\"age\"]>28:\n",
    "        ages[employee[\"id\"]]=employee[\"age\"]\n",
    "    return ages\n",
    "employees_age(employees)\n"
   ]
  },
  {
   "cell_type": "code",
   "execution_count": 3,
   "id": "507a5044",
   "metadata": {},
   "outputs": [
    {
     "data": {
      "text/plain": [
       "{101: 30, 103: 35}"
      ]
     },
     "execution_count": 3,
     "metadata": {},
     "output_type": "execute_result"
    }
   ],
   "source": [
    "def employees_age(employees):\n",
    "   return{employee[\"id\"]:employee[\"age\"] for employee in employees if employee[\"age\"]>28 }\n",
    "   \n",
    "employees_age(employees)\n"
   ]
  },
  {
   "cell_type": "code",
   "execution_count": 12,
   "id": "18353a67",
   "metadata": {},
   "outputs": [
    {
     "data": {
      "text/plain": [
       "{'banana': 2.5, 'orange': 3.0, 'kiwi': 4.0}"
      ]
     },
     "execution_count": 12,
     "metadata": {},
     "output_type": "execute_result"
    }
   ],
   "source": [
    "# task 1.2\n",
    "fruits = {'apple': 1.2, 'banana': 2.5, 'orange': 3.0, 'kiwi': 4.0}\n",
    "\n",
    "def fruites_price(fruits):\n",
    "    fruit={}\n",
    "    for key,value in fruits.items():\n",
    "       if value>2:\n",
    "         fruit[key]=value\n",
    "    return fruit        \n",
    "\n",
    "\n",
    "fruites_price(fruits)"
   ]
  },
  {
   "cell_type": "code",
   "execution_count": 13,
   "id": "8adc9425",
   "metadata": {},
   "outputs": [
    {
     "data": {
      "text/plain": [
       "{'banana': 2.5, 'orange': 3.0, 'kiwi': 4.0}"
      ]
     },
     "execution_count": 13,
     "metadata": {},
     "output_type": "execute_result"
    }
   ],
   "source": [
    "def fruites_price(fruits):\n",
    "   return {key:value for key,value in fruits.items()  if value>2}\n",
    "\n",
    "fruites_price(fruits)"
   ]
  },
  {
   "cell_type": "code",
   "execution_count": null,
   "id": "f50ccfba",
   "metadata": {},
   "outputs": [],
   "source": [
    "# task 1.3\n",
    "def odd_even(nums):\n",
    "    type={}\n",
    "    for num in range(1,11):\n",
    "        if num \n",
    "        "
   ]
  },
  {
   "cell_type": "code",
   "execution_count": null,
   "id": "0d370a08",
   "metadata": {},
   "outputs": [],
   "source": [
    "# Task 1 (Challenging)\n",
    "# Use nested dictionary comprehension to create a dictionary of restaurants with items under $10\n",
    "\n",
    "# Restaurant menus with emoji food items and prices\n",
    "restaurant_menus = [\n",
    "    {\"restaurant\": \"Italian Place\", \"menu\": {\"🍕\": 12.99, \"🍝\": 10.99, \"🥖\": 3.99, \"🥗\": 7.99}},\n",
    "    {\"restaurant\": \"Burger Joint\", \"menu\": {\"🍔\": 8.99, \"🍟\": 3.99, \"🥤\": 1.99, \"🍦\": 4.99}},\n",
    "    {\"restaurant\": \"Sushi Bar\", \"menu\": {\"🍣\": 15.99, \"🍜\": 12.99, \"🍙\": 6.99, \"🍶\": 9.99}},\n",
    "    {\"restaurant\": \"Health Spot\", \"menu\": {\"🥗\": 9.99, \"🥙\": 8.99, \"🥑\": 4.99, \"🥝\": 3.99}},\n",
    "]\n",
    "\n",
    "\n",
    "# Expected output\n",
    "# Output\n",
    "{\n",
    "    'Italian Place': {'🥖': 3.99, '🥗': 7.99},\n",
    "    'Burger Joint': {'🍔': 8.99, '🍟': 3.99, '🥤': 1.99, '🍦': 4.99},\n",
    "    'Sushi Bar': {'🍙': 6.99},\n",
    "    'Health Spot': {'🥙': 8.99, '🥑': 4.99, '🥝': 3.99}\n",
    "}"
   ]
  },
  {
   "cell_type": "code",
   "execution_count": 21,
   "id": "94343284",
   "metadata": {},
   "outputs": [
    {
     "data": {
      "text/plain": [
       "{'Italian Place': {'🍕': 12.99, '🍝': 10.99, '🥖': 3.99, '🥗': 7.99},\n",
       " 'Burger Joint': {'🍔': 8.99, '🍟': 3.99, '🍦': 4.99},\n",
       " 'Sushi Bar': {'🍣': 15.99, '🍜': 12.99, '🍙': 6.99, '🍶': 9.99},\n",
       " 'Health Spot': {'🥗': 9.99, '🥙': 8.99, '🥑': 4.99, '🥝': 3.99}}"
      ]
     },
     "execution_count": 21,
     "metadata": {},
     "output_type": "execute_result"
    }
   ],
   "source": [
    "restaurant_menus = [\n",
    "    {\"restaurant\": \"Italian Place\", \"menu\": {\"🍕\": 12.99, \"🍝\": 10.99, \"🥖\": 3.99, \"🥗\": 7.99}},\n",
    "    {\"restaurant\": \"Burger Joint\", \"menu\": {\"🍔\": 8.99, \"🍟\": 3.99, \"🥤\": 1.99, \"🍦\": 4.99}},\n",
    "    {\"restaurant\": \"Sushi Bar\", \"menu\": {\"🍣\": 15.99, \"🍜\": 12.99, \"🍙\": 6.99, \"🍶\": 9.99}},\n",
    "    {\"restaurant\": \"Health Spot\", \"menu\": {\"🥗\": 9.99, \"🥙\": 8.99, \"🥑\": 4.99, \"🥝\": 3.99}},\n",
    "]\n",
    "\n",
    "# Task 1.1 - Normal for loop\n",
    "\n",
    "def get_affordable_items(restaurant_menus):\n",
    "    affordable_items={}\n",
    "    for item in restaurant_menus:\n",
    "       for key,value in item[\"menu\"].items():\n",
    "           if value>2:\n",
    "               affordable_items[item[\"restaurant\"]] = {**affordable_items.get(item[\"restaurant\"], {}), key:value}\n",
    "       \n",
    "    return affordable_items\n",
    "       \n",
    "\n",
    "get_affordable_items(restaurant_menus)\n",
    "# Task 1.2 - Dict Comp\n",
    "     "
   ]
  }
 ],
 "metadata": {
  "kernelspec": {
   "display_name": "myenv",
   "language": "python",
   "name": "python3"
  },
  "language_info": {
   "codemirror_mode": {
    "name": "ipython",
    "version": 3
   },
   "file_extension": ".py",
   "mimetype": "text/x-python",
   "name": "python",
   "nbconvert_exporter": "python",
   "pygments_lexer": "ipython3",
   "version": "3.13.5"
  }
 },
 "nbformat": 4,
 "nbformat_minor": 5
}
