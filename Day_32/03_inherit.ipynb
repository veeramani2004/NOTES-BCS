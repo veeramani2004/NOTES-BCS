{
 "cells": [
  {
   "cell_type": "code",
   "execution_count": 2,
   "id": "3f9c19f1",
   "metadata": {},
   "outputs": [],
   "source": [
    "class Account:\n",
    "    intrest_rate=2\n",
    "    total_no_acc=0\n",
    "    def __init__(self,acc_no,name,balence):\n",
    "        self.acc_no=acc_no\n",
    "        self.name=name\n",
    "        self.balence=balence\n",
    "        Account.total_no_acc +=1\n",
    "    def display_balence(self):\n",
    "        return f\"Your balence is: ₹{self.balence:,.2f}\"\n",
    "    def withdraw(self,amount):\n",
    "        if amount <1:\n",
    "            return \"Invalid amount\"\n",
    "        elif self.balence<amount:\n",
    "            return f'Insufficient funds.{self.display_balence()}' \n",
    "        else:\n",
    "            self.balence=self.balence-amount\n",
    "            return f\"Success.{self.display_balence()} \"\n",
    "        \n",
    "         # def depoist(self,amount):\n",
    "         \n",
    "    def apply_intrest(self):\n",
    "        self.balence= self.balence+(Account.intrest_rate /100)* self.balence\n",
    "        return f\"updated intrest rate {Account.intrest_rate}%.{self.display_balence()} \"\n",
    "    @classmethod\n",
    "    def update_interest_rate(cls,new_intrest_rate):\n",
    "        if new_intrest_rate<0:\n",
    "            return \"invalid intrest rate\"\n",
    "        elif new_intrest_rate>100:\n",
    "            return \"invalid intrest rate\"\n",
    "        cls.intrest_rate=new_intrest_rate\n",
    "        return \n",
    "    def get_total_no_accounts():\n",
    "        return f\"Total number of account : {Account.total_no_acc}\"\n",
    "\n",
    "gopi=Account(12345678,\"gobiga harikaran\",1_00_00_000)\n",
    "viky=Account(87654321,\"vignesh\",10_00_000)\n",
    "veera=Account(49876543,\"veeramani\",\"1 Million Dollers\")\n",
    "      "
   ]
  },
  {
   "cell_type": "code",
   "execution_count": 7,
   "id": "2a13de30",
   "metadata": {},
   "outputs": [],
   "source": [
    "class SavingsAccount(Account):\n",
    "    intrest_rate=4\n",
    "    \n",
    "  \n",
    "    def apply_intrest(self):\n",
    "        self.balence += (SavingsAccount.intrest_rate /100)* self.balence\n",
    "        return f\"updated intrest rate {SavingsAccount.intrest_rate}%.{self.display_balence()} \"\n",
    "    \n",
    "muthu=SavingsAccount(420,\"Muth kumar\",10_00_000)"
   ]
  },
  {
   "cell_type": "code",
   "execution_count": 5,
   "id": "aff86582",
   "metadata": {},
   "outputs": [],
   "source": [
    "class CheckingAccount(Account):\n",
    "    transaction_charge=10\n",
    "\n",
    "\n",
    "    def withdraw(self,amount):\n",
    "        if amount <1:\n",
    "            return \"Invalid amount\"\n",
    "        elif self.balence<amount:\n",
    "            return f'Insufficient funds.{self.display_balence()}' \n",
    "        else:\n",
    "            self.balence -=(amount+CheckingAccount.transaction_charge)\n",
    "            return f\"Success.{self.display_balence()} \"\n",
    "veeramani=CheckingAccount(222,\"veeramani\",1000)"
   ]
  },
  {
   "cell_type": "code",
   "execution_count": 8,
   "id": "03588575",
   "metadata": {},
   "outputs": [
    {
     "name": "stdout",
     "output_type": "stream",
     "text": [
      "updated intrest rate 4%.Your balence is: ₹1,040,000.00 \n",
      "Your balence is: ₹1,040,000.00\n",
      "Success.Your balence is: ₹960.00 \n",
      "Your balence is: ₹960.00\n"
     ]
    }
   ],
   "source": [
    "print(muthu.apply_intrest())\n",
    "print(muthu.display_balence())\n",
    "\n",
    "print(veeramani.withdraw(10))\n",
    "print(veeramani.display_balence())"
   ]
  }
 ],
 "metadata": {
  "kernelspec": {
   "display_name": "myenv",
   "language": "python",
   "name": "python3"
  },
  "language_info": {
   "codemirror_mode": {
    "name": "ipython",
    "version": 3
   },
   "file_extension": ".py",
   "mimetype": "text/x-python",
   "name": "python",
   "nbconvert_exporter": "python",
   "pygments_lexer": "ipython3",
   "version": "3.13.5"
  }
 },
 "nbformat": 4,
 "nbformat_minor": 5
}
